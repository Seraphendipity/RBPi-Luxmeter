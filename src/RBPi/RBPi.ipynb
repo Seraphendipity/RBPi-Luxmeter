{
 "metadata": {
  "language_info": {
   "codemirror_mode": {
    "name": "ipython",
    "version": 3
   },
   "file_extension": ".py",
   "mimetype": "text/x-python",
   "name": "python",
   "nbconvert_exporter": "python",
   "pygments_lexer": "ipython3",
   "version": "3.9.0-final"
  },
  "orig_nbformat": 2,
  "kernelspec": {
   "name": "python3",
   "display_name": "Python 3.9.0 64-bit",
   "metadata": {
    "interpreter": {
     "hash": "ac59ebe37160ed0dfa835113d9b8498d9f09ceb179beaac4002f036b9467c963"
    }
   }
  }
 },
 "nbformat": 4,
 "nbformat_minor": 2,
 "cells": [
  {
   "cell_type": "code",
   "execution_count": 1,
   "metadata": {},
   "outputs": [],
   "source": [
    "# INITIALIZATION\n",
    "\n",
    "import tkinter as tk\n",
    "import matplotlib\n",
    "\n",
    "matplotlib.use(\"TkAgg\")\n",
    "from matplotlib.backends.backend_tkagg import FigureCanvasTkAgg\n",
    "import matplotlib.pyplot as plt\n",
    "from matplotlib.figure import Figure"
   ]
  },
  {
   "cell_type": "code",
   "execution_count": 2,
   "metadata": {},
   "outputs": [],
   "source": [
    "# AUXILLARY FUNCTIONS\n",
    "\n",
    "def clicked():\n",
    "    lbl.configure(text=\"Button was clicked !!\")\n",
    "\n",
    "def plot():\n",
    "    f = Figure(figsize=(5,3), dpi=100)\n",
    "    a = f.add_subplot(111)\n",
    "    a.plot([1,2,3,4,5,6,7,8],[5,6,1,3,8,9,3,5])\n",
    "    canvas = FigureCanvasTkAgg(f,master =window)# Creating empty canvas \n",
    "    canvas.draw()                               # Draw on canvas \n",
    "    canvas.get_tk_widget().place(x=50,y=30)     # Putting canvas (graph) on GUI Tkinter"
   ]
  },
  {
   "cell_type": "code",
   "execution_count": 3,
   "metadata": {},
   "outputs": [],
   "source": [
    "# MAIN \n",
    "\n",
    "# Empty window is generated\n",
    "window = tk.Tk()\n",
    "\n",
    "# Name for window is assigned \n",
    "window.title(\"Welcome to Emb. System Class\");\n",
    "\n",
    "# Side of GUI Window is set\n",
    "window.geometry('720x640')\n",
    "\n",
    "# Text inside window is set\n",
    "lbl = tk.Label(window, text=\"This is just a demo\")\n",
    "\n",
    "# Location for above text inside the window\n",
    "lbl.place(x=0,y=0)\n",
    "\n",
    "# Generate first Button inside window\n",
    "btn = tk.Button(window, text=\"Start\",bg= \"green\",fg = \"white\", height = 2, width = 6,command=plot)\n",
    "\n",
    "# Location for first button inside window\n",
    "btn.place(x=60,y=350)\n",
    "\n",
    "#Generate secondButton inside window\n",
    "btn1 = tk.Button(window, text=\"Stop\",bg = \"red\",fg = \"white\",height = 2, width = 6)\n",
    "\n",
    "# Location for second button inside window\n",
    "btn1.place(x=260,y=350)\n",
    "\n",
    "#Generate third Button inside window\n",
    "btn2 = tk.Button(window, text=\"Record\",bg = \"blue\",fg = \"white\" ,height = 2, width = 6, command=clicked)\n",
    "\n",
    "#Location for second button inside window\n",
    "btn2.place(x=460,y=350)\n",
    "\n",
    "# Running whole sets of above commands by bundling it\n",
    "window.mainloop()"
   ]
  },
  {
   "cell_type": "code",
   "execution_count": 1,
   "metadata": {},
   "outputs": [
    {
     "output_type": "error",
     "ename": "ModuleNotFoundError",
     "evalue": "No module named 'smbus'",
     "traceback": [
      "\u001b[1;31m---------------------------------------------------------------------------\u001b[0m",
      "\u001b[1;31mModuleNotFoundError\u001b[0m                       Traceback (most recent call last)",
      "\u001b[1;32m<ipython-input-1-1a78205b5680>\u001b[0m in \u001b[0;36m<module>\u001b[1;34m\u001b[0m\n\u001b[0;32m      6\u001b[0m \u001b[1;33m\u001b[0m\u001b[0m\n\u001b[0;32m      7\u001b[0m \u001b[1;31m#Import the Library Requreid\u001b[0m\u001b[1;33m\u001b[0m\u001b[1;33m\u001b[0m\u001b[1;33m\u001b[0m\u001b[0m\n\u001b[1;32m----> 8\u001b[1;33m \u001b[1;32mimport\u001b[0m \u001b[0msmbus\u001b[0m\u001b[1;33m\u001b[0m\u001b[1;33m\u001b[0m\u001b[0m\n\u001b[0m\u001b[0;32m      9\u001b[0m \u001b[1;32mimport\u001b[0m \u001b[0mtime\u001b[0m\u001b[1;33m\u001b[0m\u001b[1;33m\u001b[0m\u001b[0m\n\u001b[0;32m     10\u001b[0m \u001b[1;33m\u001b[0m\u001b[0m\n",
      "\u001b[1;31mModuleNotFoundError\u001b[0m: No module named 'smbus'"
     ]
    }
   ],
   "source": [
    "#RPi Pinouts\n",
    "# NOTE: Need to run on a seprate thread --\n",
    "#   https://docs.python.org/2/library/multiprocessing.html\n",
    "#   https://docs.python.org/2/library/multiprocessing.html\n",
    "# https://radiostud.io/howto-i2c-communication-rpi/\n",
    "# https://github.com/suryasundarraj/rpi-series/blob/master/i2c_communication/rpi_i2c.py\n",
    "#I2C Pins \n",
    "#GPIO2 -> SDA\n",
    "#GPIO3 -> SCL\n",
    "\n",
    "#Import the Library Required \n",
    "import smbus\n",
    "import time\n",
    "\n",
    "# for RPI version 1, use \"bus = smbus.SMBus(0)\"\n",
    "bus = smbus.SMBus(1)\n",
    "\n",
    "# This is the address we setup in the Arduino Program\n",
    "#Slave Address 1\n",
    "sAddress = 0x00\n",
    "\n",
    "def writeNumber(value):\n",
    "    bus.write_byte(sAddress, value)\n",
    "    # bus.write_byte_data(address, 0, value)\n",
    "    return -1\n",
    "\n",
    "def readNumber():\n",
    "    # number = bus.read_byte(address)\n",
    "    number = bus.read_byte_data(sAddress, 1)\n",
    "    return number\n",
    "    \n",
    "# while True:\n",
    "# \t#Receives the data from the User\n",
    "#     data = raw_input(\"Enter the data to be sent : \")\n",
    "#     data_list = list(data)\n",
    "#     for i in data_list:\n",
    "#     \t#Sends to the Slaves \n",
    "#         writeNumber(int(ord(i)))\n",
    "#         time.sleep(.1)\n",
    "\n",
    "#     writeNumber(int(0x0A))\n",
    "\n",
    "while True:\n",
    "    #Reads data from the Slaves \n",
    "    readNumber()\n",
    "    time.sleep(.1)\n",
    "\n",
    "#End of the Script"
   ]
  }
 ]
}