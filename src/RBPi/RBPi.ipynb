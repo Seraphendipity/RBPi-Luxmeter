{
 "metadata": {
  "language_info": {
   "codemirror_mode": {
    "name": "ipython",
    "version": 3
   },
   "file_extension": ".py",
   "mimetype": "text/x-python",
   "name": "python",
   "nbconvert_exporter": "python",
   "pygments_lexer": "ipython3",
   "version": "3.9.0-final"
  },
  "orig_nbformat": 2,
  "kernelspec": {
   "name": "python3",
   "display_name": "Python 3.9.0 64-bit",
   "metadata": {
    "interpreter": {
     "hash": "ac59ebe37160ed0dfa835113d9b8498d9f09ceb179beaac4002f036b9467c963"
    }
   }
  }
 },
 "nbformat": 4,
 "nbformat_minor": 2,
 "cells": [
  {
   "cell_type": "code",
   "execution_count": 8,
   "metadata": {},
   "outputs": [],
   "source": [
    "# INITIALIZATION\n",
    "\n",
    "import tkinter as tk\n",
    "import numpy\n",
    "import matplotlib\n",
    "\n",
    "matplotlib.use(\"TkAgg\")\n",
    "from matplotlib.backends.backend_tkagg import FigureCanvasTkAgg\n",
    "import matplotlib.pyplot as plt\n",
    "from matplotlib.figure import Figure"
   ]
  },
  {
   "cell_type": "code",
   "execution_count": 10,
   "metadata": {},
   "outputs": [],
   "source": [
    "# AUXILLARY FUNCTIONS\n",
    "\n",
    "def clicked():\n",
    "    lbl.configure(text=\"Button was clicked !!\")\n",
    "\n",
    "def plot():\n",
    "    f = Figure(figsize=(5,3), dpi=100)\n",
    "    a = f.add_subplot(111)\n",
    "    a.plot([1,2,3,4,5,6,7,8],[5,6,1,3,8,9,3,5])\n",
    "    canvas = FigureCanvasTkAgg(f,master =window)# Creating empty canvas \n",
    "    canvas.draw()                               # Draw on canvas \n",
    "    canvas.get_tk_widget().place(x=50,y=30)     # Putting canvas (graph) on GUI Tkinter\n",
    "\n",
    "def generateWindow():\n",
    "    # Generate a new page with specified parameters."
   ]
  },
  {
   "cell_type": "code",
   "execution_count": 11,
   "metadata": {},
   "outputs": [
    {
     "output_type": "error",
     "ename": "KeyboardInterrupt",
     "evalue": "",
     "traceback": [
      "\u001b[1;31m---------------------------------------------------------------------------\u001b[0m",
      "\u001b[1;31mKeyboardInterrupt\u001b[0m                         Traceback (most recent call last)",
      "\u001b[1;32m<ipython-input-11-ccfdc5842da2>\u001b[0m in \u001b[0;36m<module>\u001b[1;34m\u001b[0m\n\u001b[0;32m     35\u001b[0m \u001b[1;33m\u001b[0m\u001b[0m\n\u001b[0;32m     36\u001b[0m \u001b[1;31m# Running whole sets of above commands by bundling it\u001b[0m\u001b[1;33m\u001b[0m\u001b[1;33m\u001b[0m\u001b[1;33m\u001b[0m\u001b[0m\n\u001b[1;32m---> 37\u001b[1;33m \u001b[0mwindow\u001b[0m\u001b[1;33m.\u001b[0m\u001b[0mmainloop\u001b[0m\u001b[1;33m(\u001b[0m\u001b[1;33m)\u001b[0m\u001b[1;33m\u001b[0m\u001b[1;33m\u001b[0m\u001b[0m\n\u001b[0m",
      "\u001b[1;32mC:\\Program Files\\Python39\\lib\\tkinter\\__init__.py\u001b[0m in \u001b[0;36mmainloop\u001b[1;34m(self, n)\u001b[0m\n\u001b[0;32m   1420\u001b[0m     \u001b[1;32mdef\u001b[0m \u001b[0mmainloop\u001b[0m\u001b[1;33m(\u001b[0m\u001b[0mself\u001b[0m\u001b[1;33m,\u001b[0m \u001b[0mn\u001b[0m\u001b[1;33m=\u001b[0m\u001b[1;36m0\u001b[0m\u001b[1;33m)\u001b[0m\u001b[1;33m:\u001b[0m\u001b[1;33m\u001b[0m\u001b[1;33m\u001b[0m\u001b[0m\n\u001b[0;32m   1421\u001b[0m         \u001b[1;34m\"\"\"Call the mainloop of Tk.\"\"\"\u001b[0m\u001b[1;33m\u001b[0m\u001b[1;33m\u001b[0m\u001b[0m\n\u001b[1;32m-> 1422\u001b[1;33m         \u001b[0mself\u001b[0m\u001b[1;33m.\u001b[0m\u001b[0mtk\u001b[0m\u001b[1;33m.\u001b[0m\u001b[0mmainloop\u001b[0m\u001b[1;33m(\u001b[0m\u001b[0mn\u001b[0m\u001b[1;33m)\u001b[0m\u001b[1;33m\u001b[0m\u001b[1;33m\u001b[0m\u001b[0m\n\u001b[0m\u001b[0;32m   1423\u001b[0m \u001b[1;33m\u001b[0m\u001b[0m\n\u001b[0;32m   1424\u001b[0m     \u001b[1;32mdef\u001b[0m \u001b[0mquit\u001b[0m\u001b[1;33m(\u001b[0m\u001b[0mself\u001b[0m\u001b[1;33m)\u001b[0m\u001b[1;33m:\u001b[0m\u001b[1;33m\u001b[0m\u001b[1;33m\u001b[0m\u001b[0m\n",
      "\u001b[1;31mKeyboardInterrupt\u001b[0m: "
     ]
    }
   ],
   "source": [
    "# MAIN \n",
    "\n",
    "# Empty window is generated\n",
    "window = tk.Tk()\n",
    "\n",
    "# Name for window is assigned \n",
    "window.title(\"RBPi-Luxmeter\");\n",
    "\n",
    "# Side of GUI Window is set\n",
    "window.geometry('720x640')\n",
    "\n",
    "# Start Button\n",
    "btnStart = tk.Button(window, text=\"Start\",bg= \"green\",fg = \"white\", height = 2, width = 6,command=plot)\n",
    "btnStart.place(x=60,y=350)\n",
    "\n",
    "#Generate secondButton inside window\n",
    "btnStop = tk.Button(window, text=\"Stop\",bg = \"red\",fg = \"white\",height = 2, width = 6)\n",
    "btnStop.place(x=260,y=350)\n",
    "\n",
    "#Generate third Button inside window\n",
    "btn2 = tk.Button(window, text=\"Record\",bg = \"blue\",fg = \"white\" ,height = 2, width = 6, command=clicked)\n",
    "\n",
    "#Location for second button inside window\n",
    "btn2.place(x=460,y=350)\n",
    "\n",
    "# Running whole sets of above commands by bundling it\n",
    "window.mainloop()"
   ]
  },
  {
   "cell_type": "code",
   "execution_count": 23,
   "metadata": {},
   "outputs": [
    {
     "output_type": "error",
     "ename": "OSError",
     "evalue": "[Errno 74] Bad message",
     "traceback": [
      "\u001b[0;31m---------------------------------------------------------------------------\u001b[0m",
      "\u001b[0;31mOSError\u001b[0m                                   Traceback (most recent call last)",
      "\u001b[0;32m<ipython-input-23-5dc1e3b58fff>\u001b[0m in \u001b[0;36m<module>\u001b[0;34m()\u001b[0m\n\u001b[1;32m     46\u001b[0m         \u001b[0;31m#Reads data from the Slaves\u001b[0m\u001b[0;34m\u001b[0m\u001b[0;34m\u001b[0m\u001b[0;34m\u001b[0m\u001b[0m\n\u001b[1;32m     47\u001b[0m         \u001b[0mi\u001b[0m \u001b[0;34m+=\u001b[0m \u001b[0;36m1\u001b[0m\u001b[0;34m\u001b[0m\u001b[0;34m\u001b[0m\u001b[0m\n\u001b[0;32m---> 48\u001b[0;31m         \u001b[0mprint\u001b[0m\u001b[0;34m(\u001b[0m\u001b[0mstr\u001b[0m\u001b[0;34m(\u001b[0m\u001b[0mi\u001b[0m\u001b[0;34m)\u001b[0m\u001b[0;34m+\u001b[0m\u001b[0;34m': '\u001b[0m\u001b[0;34m+\u001b[0m\u001b[0mstr\u001b[0m\u001b[0;34m(\u001b[0m\u001b[0mreadNumber\u001b[0m\u001b[0;34m(\u001b[0m\u001b[0mbus\u001b[0m\u001b[0;34m)\u001b[0m\u001b[0;34m)\u001b[0m\u001b[0;34m)\u001b[0m\u001b[0;34m\u001b[0m\u001b[0;34m\u001b[0m\u001b[0m\n\u001b[0m\u001b[1;32m     49\u001b[0m         \u001b[0mtime\u001b[0m\u001b[0;34m.\u001b[0m\u001b[0msleep\u001b[0m\u001b[0;34m(\u001b[0m\u001b[0;36m.25\u001b[0m\u001b[0;34m)\u001b[0m\u001b[0;34m\u001b[0m\u001b[0;34m\u001b[0m\u001b[0m\n\u001b[1;32m     50\u001b[0m \u001b[0;34m\u001b[0m\u001b[0m\n",
      "\u001b[0;32m<ipython-input-23-5dc1e3b58fff>\u001b[0m in \u001b[0;36mreadNumber\u001b[0;34m(bus)\u001b[0m\n\u001b[1;32m     27\u001b[0m \u001b[0;32mdef\u001b[0m \u001b[0mreadNumber\u001b[0m\u001b[0;34m(\u001b[0m\u001b[0mbus\u001b[0m\u001b[0;34m)\u001b[0m\u001b[0;34m:\u001b[0m\u001b[0;34m\u001b[0m\u001b[0;34m\u001b[0m\u001b[0m\n\u001b[1;32m     28\u001b[0m     \u001b[0;31m# number = bus.read_byte(address)\u001b[0m\u001b[0;34m\u001b[0m\u001b[0;34m\u001b[0m\u001b[0;34m\u001b[0m\u001b[0m\n\u001b[0;32m---> 29\u001b[0;31m     \u001b[0mnumber\u001b[0m \u001b[0;34m=\u001b[0m \u001b[0mbus\u001b[0m\u001b[0;34m.\u001b[0m\u001b[0mread_byte_data\u001b[0m\u001b[0;34m(\u001b[0m\u001b[0msAddress\u001b[0m\u001b[0;34m,\u001b[0m \u001b[0;36m0\u001b[0m\u001b[0;34m)\u001b[0m\u001b[0;34m\u001b[0m\u001b[0;34m\u001b[0m\u001b[0m\n\u001b[0m\u001b[1;32m     30\u001b[0m     \u001b[0;32mreturn\u001b[0m \u001b[0mnumber\u001b[0m\u001b[0;34m\u001b[0m\u001b[0;34m\u001b[0m\u001b[0m\n\u001b[1;32m     31\u001b[0m \u001b[0;34m\u001b[0m\u001b[0m\n",
      "\u001b[0;32m/home/pi/.local/lib/python3.7/site-packages/smbus2/smbus2.py\u001b[0m in \u001b[0;36mread_byte_data\u001b[0;34m(self, i2c_addr, register, force)\u001b[0m\n\u001b[1;32m    431\u001b[0m             \u001b[0mread_write\u001b[0m\u001b[0;34m=\u001b[0m\u001b[0mI2C_SMBUS_READ\u001b[0m\u001b[0;34m,\u001b[0m \u001b[0mcommand\u001b[0m\u001b[0;34m=\u001b[0m\u001b[0mregister\u001b[0m\u001b[0;34m,\u001b[0m \u001b[0msize\u001b[0m\u001b[0;34m=\u001b[0m\u001b[0mI2C_SMBUS_BYTE_DATA\u001b[0m\u001b[0;34m\u001b[0m\u001b[0;34m\u001b[0m\u001b[0m\n\u001b[1;32m    432\u001b[0m         )\n\u001b[0;32m--> 433\u001b[0;31m         \u001b[0mioctl\u001b[0m\u001b[0;34m(\u001b[0m\u001b[0mself\u001b[0m\u001b[0;34m.\u001b[0m\u001b[0mfd\u001b[0m\u001b[0;34m,\u001b[0m \u001b[0mI2C_SMBUS\u001b[0m\u001b[0;34m,\u001b[0m \u001b[0mmsg\u001b[0m\u001b[0;34m)\u001b[0m\u001b[0;34m\u001b[0m\u001b[0;34m\u001b[0m\u001b[0m\n\u001b[0m\u001b[1;32m    434\u001b[0m         \u001b[0;32mreturn\u001b[0m \u001b[0mmsg\u001b[0m\u001b[0;34m.\u001b[0m\u001b[0mdata\u001b[0m\u001b[0;34m.\u001b[0m\u001b[0mcontents\u001b[0m\u001b[0;34m.\u001b[0m\u001b[0mbyte\u001b[0m\u001b[0;34m\u001b[0m\u001b[0;34m\u001b[0m\u001b[0m\n\u001b[1;32m    435\u001b[0m \u001b[0;34m\u001b[0m\u001b[0m\n",
      "\u001b[0;31mOSError\u001b[0m: [Errno 74] Bad message"
     ]
    }
   ],
   "source": [
    "#RPi Pinouts\n",
    "# NOTE: may need to run on a seprate thread or wrap\n",
    "# https://docs.python.org/2/library/multiprocessing.html\n",
    "# https://docs.python.org/2/library/multiprocessing.html\n",
    "# https://radiostud.io/howto-i2c-communication-rpi/\n",
    "# https://github.com/suryasundarraj/rpi-series/blob/master/i2c_communication/rpi_i2c.py\n",
    "#I2C Pins \n",
    "#GPIO2 -> SDA\n",
    "#GPIO3 -> SCL\n",
    "\n",
    "#Import the Library Required \n",
    "from smbus2 import SMBus\n",
    "import time\n",
    "\n",
    "# for RPI version 1, use \"bus = smbus.SMBus(0)\"\n",
    "with SMBus(1) as bus:\n",
    "\n",
    "    # This is the address we setup in the Arduino Program\n",
    "    #Slave Address 1\n",
    "    sAddress = 0x10\n",
    "\n",
    "    def writeNumber(value):\n",
    "        #bus.write_byte(sAddress, value)\n",
    "        # bus.write_byte_data(address, 0, value)\n",
    "        return -1\n",
    "\n",
    "    def readNumber():\n",
    "        # number = bus.read_byte(address)\n",
    "        number = bus.read_byte(sAddress)\n",
    "        return number\n",
    "        \n",
    "    i = 0\n",
    "    while True:\n",
    "        #bus.pec = 1\n",
    "        #Reads data from the Slaves\n",
    "        sensorValue = readNumber()\n",
    "        print(str(i) + \": \" + str(sensorValue << 2) + \" | \" + str(bin(sensorValue)))\n",
    "        i+=1\n",
    "        #print(readNumber())\n",
    "        time.sleep(.2)\n",
    "\n",
    "#End of the Script"
   ]
  }
 ]
}