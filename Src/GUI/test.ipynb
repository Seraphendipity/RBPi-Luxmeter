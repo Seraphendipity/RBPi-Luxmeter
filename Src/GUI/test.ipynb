{
 "metadata": {
  "language_info": {
   "codemirror_mode": {
    "name": "ipython",
    "version": 3
   },
   "file_extension": ".py",
   "mimetype": "text/x-python",
   "name": "python",
   "nbconvert_exporter": "python",
   "pygments_lexer": "ipython3",
   "version": "3.8.2-final"
  },
  "orig_nbformat": 2,
  "kernelspec": {
   "name": "python3",
   "display_name": "Python 3.8.2 64-bit",
   "metadata": {
    "interpreter": {
     "hash": "2db524e06e9f5f4ffedc911c917cb75e12dbc923643829bf417064a77eb14d37"
    }
   }
  }
 },
 "nbformat": 4,
 "nbformat_minor": 2,
 "cells": [
  {
   "cell_type": "code",
   "execution_count": 1,
   "metadata": {},
   "outputs": [],
   "source": [
    "# INITIALIZATION\n",
    "\n",
    "import tkinter as tk\n",
    "import matplotlib\n",
    "\n",
    "matplotlib.use(\"TkAgg\")\n",
    "from matplotlib.backends.backend_tkagg import FigureCanvasTkAgg\n",
    "import matplotlib.pyplot as plt\n",
    "from matplotlib.figure import Figure"
   ]
  },
  {
   "cell_type": "code",
   "execution_count": 2,
   "metadata": {},
   "outputs": [],
   "source": [
    "# AUXILLARY FUNCTIONS\n",
    "\n",
    "def clicked():\n",
    "    lbl.configure(text=\"Button was clicked !!\")\n",
    "\n",
    "def plot():\n",
    "    f = Figure(figsize=(5,3), dpi=100)\n",
    "    a = f.add_subplot(111)\n",
    "    a.plot([1,2,3,4,5,6,7,8],[5,6,1,3,8,9,3,5])\n",
    "    canvas = FigureCanvasTkAgg(f,master =window)# Creating empty canvas \n",
    "    canvas.draw()                               # Draw on canvas \n",
    "    canvas.get_tk_widget().place(x=50,y=30)     # Putting canvas (graph) on GUI Tkinter"
   ]
  },
  {
   "cell_type": "code",
   "execution_count": 3,
   "metadata": {},
   "outputs": [],
   "source": [
    "# MAIN \n",
    "\n",
    "# Empty window is generated\n",
    "window = tk.Tk()\n",
    "\n",
    "# Name for window is assigned \n",
    "window.title(\"Welcome to Emb. System Class\");\n",
    "\n",
    "# Side of GUI Window is set\n",
    "window.geometry('720x640')\n",
    "\n",
    "# Text inside window is set\n",
    "lbl = tk.Label(window, text=\"This is just a demo\")\n",
    "\n",
    "# Location for above text inside the window\n",
    "lbl.place(x=0,y=0)\n",
    "\n",
    "# Generate first Button inside window\n",
    "btn = tk.Button(window, text=\"Start\",bg= \"green\",fg = \"white\", height = 2, width = 6,command=plot)\n",
    "\n",
    "# Location for first button inside window\n",
    "btn.place(x=60,y=350)\n",
    "\n",
    "#Generate secondButton inside window\n",
    "btn1 = tk.Button(window, text=\"Stop\",bg = \"red\",fg = \"white\",height = 2, width = 6)\n",
    "\n",
    "# Location for second button inside window\n",
    "btn1.place(x=260,y=350)\n",
    "\n",
    "#Generate third Button inside window\n",
    "btn2 = tk.Button(window, text=\"Record\",bg = \"blue\",fg = \"white\" ,height = 2, width = 6, command=clicked)\n",
    "\n",
    "#Location for second button inside window\n",
    "btn2.place(x=460,y=350)\n",
    "\n",
    "# Running whole sets of above commands by bundling it\n",
    "window.mainloop()"
   ]
  }
 ]
}